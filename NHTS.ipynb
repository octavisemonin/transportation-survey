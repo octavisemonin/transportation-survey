{
 "cells": [
  {
   "cell_type": "code",
   "execution_count": 1,
   "metadata": {},
   "outputs": [],
   "source": [
    "import numpy as np\n",
    "import pandas as pd\n",
    "import matplotlib.pyplot as plt"
   ]
  },
  {
   "cell_type": "markdown",
   "metadata": {},
   "source": [
    "# This data is from the National Household Travel Survey\n",
    "Trying to create a better version of this: https://nhts.ornl.gov/vehicle-trips\n",
    "\n",
    "This data is also interesting: https://www.bts.gov/content/us-vehicle-miles"
   ]
  },
  {
   "cell_type": "code",
   "execution_count": 2,
   "metadata": {},
   "outputs": [],
   "source": [
    "nhts = pd.read_csv('trippub.csv')"
   ]
  },
  {
   "cell_type": "code",
   "execution_count": 3,
   "metadata": {},
   "outputs": [
    {
     "data": {
      "text/html": [
       "<div>\n",
       "<style scoped>\n",
       "    .dataframe tbody tr th:only-of-type {\n",
       "        vertical-align: middle;\n",
       "    }\n",
       "\n",
       "    .dataframe tbody tr th {\n",
       "        vertical-align: top;\n",
       "    }\n",
       "\n",
       "    .dataframe thead th {\n",
       "        text-align: right;\n",
       "    }\n",
       "</style>\n",
       "<table border=\"1\" class=\"dataframe\">\n",
       "  <thead>\n",
       "    <tr style=\"text-align: right;\">\n",
       "      <th></th>\n",
       "      <th>HOUSEID</th>\n",
       "      <th>PERSONID</th>\n",
       "      <th>TDTRPNUM</th>\n",
       "      <th>STRTTIME</th>\n",
       "      <th>ENDTIME</th>\n",
       "      <th>TRVLCMIN</th>\n",
       "      <th>TRPMILES</th>\n",
       "      <th>TRPTRANS</th>\n",
       "      <th>TRPACCMP</th>\n",
       "      <th>TRPHHACC</th>\n",
       "      <th>...</th>\n",
       "      <th>OBHTNRNT</th>\n",
       "      <th>OBPPOPDN</th>\n",
       "      <th>OBRESDN</th>\n",
       "      <th>DTHTNRNT</th>\n",
       "      <th>DTPPOPDN</th>\n",
       "      <th>DTRESDN</th>\n",
       "      <th>DTEEMPDN</th>\n",
       "      <th>DBHTNRNT</th>\n",
       "      <th>DBPPOPDN</th>\n",
       "      <th>DBRESDN</th>\n",
       "    </tr>\n",
       "  </thead>\n",
       "  <tbody>\n",
       "    <tr>\n",
       "      <th>0</th>\n",
       "      <td>30000007</td>\n",
       "      <td>1</td>\n",
       "      <td>1</td>\n",
       "      <td>1000</td>\n",
       "      <td>1015</td>\n",
       "      <td>15</td>\n",
       "      <td>5.244</td>\n",
       "      <td>3</td>\n",
       "      <td>0</td>\n",
       "      <td>0</td>\n",
       "      <td>...</td>\n",
       "      <td>20</td>\n",
       "      <td>750</td>\n",
       "      <td>300</td>\n",
       "      <td>50</td>\n",
       "      <td>750</td>\n",
       "      <td>300</td>\n",
       "      <td>350</td>\n",
       "      <td>30</td>\n",
       "      <td>300</td>\n",
       "      <td>300</td>\n",
       "    </tr>\n",
       "    <tr>\n",
       "      <th>1</th>\n",
       "      <td>30000007</td>\n",
       "      <td>1</td>\n",
       "      <td>2</td>\n",
       "      <td>1510</td>\n",
       "      <td>1530</td>\n",
       "      <td>20</td>\n",
       "      <td>5.149</td>\n",
       "      <td>3</td>\n",
       "      <td>0</td>\n",
       "      <td>0</td>\n",
       "      <td>...</td>\n",
       "      <td>30</td>\n",
       "      <td>300</td>\n",
       "      <td>300</td>\n",
       "      <td>50</td>\n",
       "      <td>1500</td>\n",
       "      <td>750</td>\n",
       "      <td>750</td>\n",
       "      <td>20</td>\n",
       "      <td>750</td>\n",
       "      <td>300</td>\n",
       "    </tr>\n",
       "    <tr>\n",
       "      <th>2</th>\n",
       "      <td>30000007</td>\n",
       "      <td>2</td>\n",
       "      <td>1</td>\n",
       "      <td>700</td>\n",
       "      <td>900</td>\n",
       "      <td>120</td>\n",
       "      <td>84.004</td>\n",
       "      <td>6</td>\n",
       "      <td>0</td>\n",
       "      <td>0</td>\n",
       "      <td>...</td>\n",
       "      <td>40</td>\n",
       "      <td>1500</td>\n",
       "      <td>750</td>\n",
       "      <td>50</td>\n",
       "      <td>1500</td>\n",
       "      <td>750</td>\n",
       "      <td>750</td>\n",
       "      <td>20</td>\n",
       "      <td>750</td>\n",
       "      <td>300</td>\n",
       "    </tr>\n",
       "    <tr>\n",
       "      <th>3</th>\n",
       "      <td>30000007</td>\n",
       "      <td>2</td>\n",
       "      <td>2</td>\n",
       "      <td>1800</td>\n",
       "      <td>2030</td>\n",
       "      <td>150</td>\n",
       "      <td>81.628</td>\n",
       "      <td>6</td>\n",
       "      <td>0</td>\n",
       "      <td>0</td>\n",
       "      <td>...</td>\n",
       "      <td>20</td>\n",
       "      <td>750</td>\n",
       "      <td>300</td>\n",
       "      <td>40</td>\n",
       "      <td>1500</td>\n",
       "      <td>750</td>\n",
       "      <td>750</td>\n",
       "      <td>40</td>\n",
       "      <td>1500</td>\n",
       "      <td>750</td>\n",
       "    </tr>\n",
       "    <tr>\n",
       "      <th>4</th>\n",
       "      <td>30000007</td>\n",
       "      <td>3</td>\n",
       "      <td>1</td>\n",
       "      <td>845</td>\n",
       "      <td>900</td>\n",
       "      <td>15</td>\n",
       "      <td>2.250</td>\n",
       "      <td>3</td>\n",
       "      <td>0</td>\n",
       "      <td>0</td>\n",
       "      <td>...</td>\n",
       "      <td>20</td>\n",
       "      <td>750</td>\n",
       "      <td>300</td>\n",
       "      <td>50</td>\n",
       "      <td>750</td>\n",
       "      <td>300</td>\n",
       "      <td>350</td>\n",
       "      <td>60</td>\n",
       "      <td>750</td>\n",
       "      <td>300</td>\n",
       "    </tr>\n",
       "  </tbody>\n",
       "</table>\n",
       "<p>5 rows × 115 columns</p>\n",
       "</div>"
      ],
      "text/plain": [
       "    HOUSEID  PERSONID  TDTRPNUM  STRTTIME  ENDTIME  TRVLCMIN  TRPMILES  \\\n",
       "0  30000007         1         1      1000     1015        15     5.244   \n",
       "1  30000007         1         2      1510     1530        20     5.149   \n",
       "2  30000007         2         1       700      900       120    84.004   \n",
       "3  30000007         2         2      1800     2030       150    81.628   \n",
       "4  30000007         3         1       845      900        15     2.250   \n",
       "\n",
       "   TRPTRANS  TRPACCMP  TRPHHACC  ...  OBHTNRNT  OBPPOPDN  OBRESDN  DTHTNRNT  \\\n",
       "0         3         0         0  ...        20       750      300        50   \n",
       "1         3         0         0  ...        30       300      300        50   \n",
       "2         6         0         0  ...        40      1500      750        50   \n",
       "3         6         0         0  ...        20       750      300        40   \n",
       "4         3         0         0  ...        20       750      300        50   \n",
       "\n",
       "   DTPPOPDN  DTRESDN  DTEEMPDN  DBHTNRNT  DBPPOPDN  DBRESDN  \n",
       "0       750      300       350        30       300      300  \n",
       "1      1500      750       750        20       750      300  \n",
       "2      1500      750       750        20       750      300  \n",
       "3      1500      750       750        40      1500      750  \n",
       "4       750      300       350        60       750      300  \n",
       "\n",
       "[5 rows x 115 columns]"
      ]
     },
     "execution_count": 3,
     "metadata": {},
     "output_type": "execute_result"
    }
   ],
   "source": [
    "nhts.head()"
   ]
  },
  {
   "cell_type": "code",
   "execution_count": 4,
   "metadata": {},
   "outputs": [
    {
     "data": {
      "text/plain": [
       "923572"
      ]
     },
     "execution_count": 4,
     "metadata": {},
     "output_type": "execute_result"
    }
   ],
   "source": [
    "len(nhts)"
   ]
  },
  {
   "cell_type": "code",
   "execution_count": 5,
   "metadata": {},
   "outputs": [
    {
     "data": {
      "text/plain": [
       " 1    611963\n",
       " 2    188934\n",
       "-1    122675\n",
       "Name: DRVR_FLG, dtype: int64"
      ]
     },
     "execution_count": 5,
     "metadata": {},
     "output_type": "execute_result"
    }
   ],
   "source": [
    "nhts.DRVR_FLG.value_counts()"
   ]
  },
  {
   "cell_type": "code",
   "execution_count": 6,
   "metadata": {
    "scrolled": true
   },
   "outputs": [
    {
     "data": {
      "text/plain": [
       "3    396931\n",
       "4    229466\n",
       "6    108303\n",
       "1     81288\n",
       "5     60463\n",
       "Name: TRPTRANS, dtype: int64"
      ]
     },
     "execution_count": 6,
     "metadata": {},
     "output_type": "execute_result"
    }
   ],
   "source": [
    "nhts.TRPTRANS.value_counts().head()"
   ]
  },
  {
   "cell_type": "markdown",
   "metadata": {},
   "source": [
    "# VMT by trip Distance\n",
    "From NHTS: \n",
    "> How to Calculate: Sum the trip weight (WTTRDFIN) for records in the Trip file where DRVR_FLG = 01 and TRPTRANS = (03,04,05,06,08,09,18)"
   ]
  },
  {
   "cell_type": "code",
   "execution_count": 7,
   "metadata": {},
   "outputs": [
    {
     "data": {
      "text/html": [
       "<div>\n",
       "<style scoped>\n",
       "    .dataframe tbody tr th:only-of-type {\n",
       "        vertical-align: middle;\n",
       "    }\n",
       "\n",
       "    .dataframe tbody tr th {\n",
       "        vertical-align: top;\n",
       "    }\n",
       "\n",
       "    .dataframe thead th {\n",
       "        text-align: right;\n",
       "    }\n",
       "</style>\n",
       "<table border=\"1\" class=\"dataframe\">\n",
       "  <thead>\n",
       "    <tr style=\"text-align: right;\">\n",
       "      <th></th>\n",
       "      <th>HOUSEID</th>\n",
       "      <th>PERSONID</th>\n",
       "      <th>TDTRPNUM</th>\n",
       "      <th>STRTTIME</th>\n",
       "      <th>ENDTIME</th>\n",
       "      <th>TRVLCMIN</th>\n",
       "      <th>TRPMILES</th>\n",
       "      <th>TRPTRANS</th>\n",
       "      <th>TRPACCMP</th>\n",
       "      <th>TRPHHACC</th>\n",
       "      <th>...</th>\n",
       "      <th>OBHTNRNT</th>\n",
       "      <th>OBPPOPDN</th>\n",
       "      <th>OBRESDN</th>\n",
       "      <th>DTHTNRNT</th>\n",
       "      <th>DTPPOPDN</th>\n",
       "      <th>DTRESDN</th>\n",
       "      <th>DTEEMPDN</th>\n",
       "      <th>DBHTNRNT</th>\n",
       "      <th>DBPPOPDN</th>\n",
       "      <th>DBRESDN</th>\n",
       "    </tr>\n",
       "  </thead>\n",
       "  <tbody>\n",
       "    <tr>\n",
       "      <th>774528</th>\n",
       "      <td>40511037</td>\n",
       "      <td>2</td>\n",
       "      <td>2</td>\n",
       "      <td>1648</td>\n",
       "      <td>1652</td>\n",
       "      <td>4</td>\n",
       "      <td>1.144</td>\n",
       "      <td>6</td>\n",
       "      <td>0</td>\n",
       "      <td>0</td>\n",
       "      <td>...</td>\n",
       "      <td>50</td>\n",
       "      <td>3000</td>\n",
       "      <td>1500</td>\n",
       "      <td>30</td>\n",
       "      <td>300</td>\n",
       "      <td>50</td>\n",
       "      <td>75</td>\n",
       "      <td>30</td>\n",
       "      <td>1500</td>\n",
       "      <td>750</td>\n",
       "    </tr>\n",
       "    <tr>\n",
       "      <th>352632</th>\n",
       "      <td>30388920</td>\n",
       "      <td>1</td>\n",
       "      <td>4</td>\n",
       "      <td>1815</td>\n",
       "      <td>1840</td>\n",
       "      <td>25</td>\n",
       "      <td>5.740</td>\n",
       "      <td>3</td>\n",
       "      <td>0</td>\n",
       "      <td>0</td>\n",
       "      <td>...</td>\n",
       "      <td>70</td>\n",
       "      <td>3000</td>\n",
       "      <td>1500</td>\n",
       "      <td>40</td>\n",
       "      <td>1500</td>\n",
       "      <td>750</td>\n",
       "      <td>750</td>\n",
       "      <td>50</td>\n",
       "      <td>3000</td>\n",
       "      <td>1500</td>\n",
       "    </tr>\n",
       "    <tr>\n",
       "      <th>356035</th>\n",
       "      <td>30392732</td>\n",
       "      <td>1</td>\n",
       "      <td>1</td>\n",
       "      <td>800</td>\n",
       "      <td>820</td>\n",
       "      <td>20</td>\n",
       "      <td>5.945</td>\n",
       "      <td>6</td>\n",
       "      <td>0</td>\n",
       "      <td>0</td>\n",
       "      <td>...</td>\n",
       "      <td>30</td>\n",
       "      <td>50</td>\n",
       "      <td>50</td>\n",
       "      <td>30</td>\n",
       "      <td>300</td>\n",
       "      <td>50</td>\n",
       "      <td>25</td>\n",
       "      <td>30</td>\n",
       "      <td>1500</td>\n",
       "      <td>300</td>\n",
       "    </tr>\n",
       "    <tr>\n",
       "      <th>471260</th>\n",
       "      <td>30521560</td>\n",
       "      <td>1</td>\n",
       "      <td>5</td>\n",
       "      <td>1445</td>\n",
       "      <td>1454</td>\n",
       "      <td>9</td>\n",
       "      <td>4.264</td>\n",
       "      <td>3</td>\n",
       "      <td>0</td>\n",
       "      <td>0</td>\n",
       "      <td>...</td>\n",
       "      <td>60</td>\n",
       "      <td>3000</td>\n",
       "      <td>1500</td>\n",
       "      <td>20</td>\n",
       "      <td>1500</td>\n",
       "      <td>750</td>\n",
       "      <td>750</td>\n",
       "      <td>50</td>\n",
       "      <td>1500</td>\n",
       "      <td>750</td>\n",
       "    </tr>\n",
       "    <tr>\n",
       "      <th>432487</th>\n",
       "      <td>30478064</td>\n",
       "      <td>2</td>\n",
       "      <td>2</td>\n",
       "      <td>742</td>\n",
       "      <td>810</td>\n",
       "      <td>28</td>\n",
       "      <td>10.516</td>\n",
       "      <td>3</td>\n",
       "      <td>0</td>\n",
       "      <td>0</td>\n",
       "      <td>...</td>\n",
       "      <td>0</td>\n",
       "      <td>3000</td>\n",
       "      <td>1500</td>\n",
       "      <td>60</td>\n",
       "      <td>1500</td>\n",
       "      <td>750</td>\n",
       "      <td>750</td>\n",
       "      <td>0</td>\n",
       "      <td>300</td>\n",
       "      <td>300</td>\n",
       "    </tr>\n",
       "  </tbody>\n",
       "</table>\n",
       "<p>5 rows × 115 columns</p>\n",
       "</div>"
      ],
      "text/plain": [
       "         HOUSEID  PERSONID  TDTRPNUM  STRTTIME  ENDTIME  TRVLCMIN  TRPMILES  \\\n",
       "774528  40511037         2         2      1648     1652         4     1.144   \n",
       "352632  30388920         1         4      1815     1840        25     5.740   \n",
       "356035  30392732         1         1       800      820        20     5.945   \n",
       "471260  30521560         1         5      1445     1454         9     4.264   \n",
       "432487  30478064         2         2       742      810        28    10.516   \n",
       "\n",
       "        TRPTRANS  TRPACCMP  TRPHHACC  ...  OBHTNRNT  OBPPOPDN  OBRESDN  \\\n",
       "774528         6         0         0  ...        50      3000     1500   \n",
       "352632         3         0         0  ...        70      3000     1500   \n",
       "356035         6         0         0  ...        30        50       50   \n",
       "471260         3         0         0  ...        60      3000     1500   \n",
       "432487         3         0         0  ...         0      3000     1500   \n",
       "\n",
       "        DTHTNRNT  DTPPOPDN  DTRESDN  DTEEMPDN  DBHTNRNT  DBPPOPDN  DBRESDN  \n",
       "774528        30       300       50        75        30      1500      750  \n",
       "352632        40      1500      750       750        50      3000     1500  \n",
       "356035        30       300       50        25        30      1500      300  \n",
       "471260        20      1500      750       750        50      1500      750  \n",
       "432487        60      1500      750       750         0       300      300  \n",
       "\n",
       "[5 rows x 115 columns]"
      ]
     },
     "execution_count": 7,
     "metadata": {},
     "output_type": "execute_result"
    }
   ],
   "source": [
    "trips = nhts.loc[nhts.DRVR_FLG.isin([1,]) & nhts.TRPTRANS.isin([3,4,5,6,8,9,18])].copy()\n",
    "trips.sample(5)"
   ]
  },
  {
   "cell_type": "code",
   "execution_count": 8,
   "metadata": {},
   "outputs": [
    {
     "data": {
      "text/plain": [
       "611342"
      ]
     },
     "execution_count": 8,
     "metadata": {},
     "output_type": "execute_result"
    }
   ],
   "source": [
    "len(trips)"
   ]
  },
  {
   "cell_type": "markdown",
   "metadata": {},
   "source": [
    "### Unweighted histogram"
   ]
  },
  {
   "cell_type": "code",
   "execution_count": 9,
   "metadata": {
    "scrolled": true
   },
   "outputs": [
    {
     "data": {
      "image/png": "[encoded data removed]",
      "text/plain": [
       "<Figure size 432x288 with 1 Axes>"
      ]
     },
     "metadata": {
      "needs_background": "light"
     },
     "output_type": "display_data"
    }
   ],
   "source": [
    "bins = np.logspace(-1, 2.3, 50)\n",
    "\n",
    "counts,bins,ax = plt.hist(trips.TRPMILES, bins=bins)\n",
    "# plt.semilogx()"
   ]
  },
  {
   "cell_type": "markdown",
   "metadata": {},
   "source": [
    "### 'WTTRDFIN' is the weighting factor to get from one trip to total equivalent annual trips in the United States\n",
    "\n",
    "Funny quote: \n",
    "> \"Because we did not invite every person and household in the U.S. to participate in the 2017 NHTS, the sample estimate could differ from the result that would have been obtained if we had conducted a census under the exact same circumstances.\""
   ]
  },
  {
   "cell_type": "code",
   "execution_count": 10,
   "metadata": {
    "scrolled": true
   },
   "outputs": [],
   "source": [
    "trips['US Weighted Trip Counts'] = trips.WTTRDFIN\n",
    "trips['Normalization Factor'] = trips.WTTRDFIN / trips.WTTRDFIN.mean()"
   ]
  },
  {
   "cell_type": "code",
   "execution_count": 11,
   "metadata": {},
   "outputs": [],
   "source": [
    "def trip_stats(df):\n",
    "    \"\"\"Estimate the weighted mean trip distance and weighted total number of US annual trips\"\"\"\n",
    "    \n",
    "    trip_distance = (df.WTTRDFIN * df.TRPMILES).mean() / df.WTTRDFIN.mean()\n",
    "    annual_trips = df.WTTRDFIN.sum()\n",
    "    \n",
    "    return trip_distance,int(annual_trips)"
   ]
  },
  {
   "cell_type": "code",
   "execution_count": 12,
   "metadata": {},
   "outputs": [],
   "source": [
    "bins = np.logspace(-1, 2.3, 50)"
   ]
  },
  {
   "cell_type": "code",
   "execution_count": 13,
   "metadata": {},
   "outputs": [],
   "source": [
    "bins = [0, 1, 3, 10, 30, np.Inf]"
   ]
  },
  {
   "cell_type": "code",
   "execution_count": 14,
   "metadata": {},
   "outputs": [],
   "source": [
    "trips['Distance Bin'] = pd.cut(trips['TRPMILES'], bins=bins, right=True)\n",
    "\n",
    "stats = trips.groupby('Distance Bin').apply(trip_stats)\n",
    "\n",
    "stats = pd.DataFrame(stats.tolist(), columns=['Trip Distance','Annual Trips'], \n",
    "                     index=stats.index)#.map(lambda interval: float(interval.left)))"
   ]
  },
  {
   "cell_type": "code",
   "execution_count": 15,
   "metadata": {},
   "outputs": [],
   "source": [
    "def range_str(interval):\n",
    "    \n",
    "    try: return f'{int(interval.left)}-{int(interval.right)}\\nmiles'\n",
    "    \n",
    "    except: return f'{int(interval.left)}+\\nmiles'\n",
    "\n",
    "stats['Left'] = stats.index.map(lambda interval: interval.left).astype('float')\n",
    "stats['Distange Range'] = stats.index.map(range_str).astype('str')\n",
    "stats['Annual Vehicle Miles Traveled'] = stats['Trip Distance'] * stats['Annual Trips']\n",
    "stats['Annual Vehicle Miles Traveled (billions)'] = stats['Trip Distance'] * stats['Annual Trips'] / 1E9"
   ]
  },
  {
   "cell_type": "code",
   "execution_count": null,
   "metadata": {},
   "outputs": [],
   "source": []
  },
  {
   "cell_type": "code",
   "execution_count": 30,
   "metadata": {},
   "outputs": [
    {
     "data": {
      "text/plain": [
       "array([<matplotlib.axes._subplots.AxesSubplot object at 0x7fa0f80f8e50>,\n",
       "       <matplotlib.axes._subplots.AxesSubplot object at 0x7fa0f858ca50>],\n",
       "      dtype=object)"
      ]
     },
     "execution_count": 30,
     "metadata": {},
     "output_type": "execute_result"
    }
   ],
   "source": [
    "axes"
   ]
  },
  {
   "cell_type": "code",
   "execution_count": 49,
   "metadata": {
    "scrolled": true
   },
   "outputs": [
    {
     "data": {
      "image/png": "[encoded data removed]",
      "text/plain": [
       "<Figure size 648x360 with 2 Axes>"
      ]
     },
     "metadata": {
      "needs_background": "light"
     },
     "output_type": "display_data"
    }
   ],
   "source": [
    "fig,axes = plt.subplots(1, 2, figsize=(9,5))\n",
    "color = 'grey'\n",
    "\n",
    "ax = axes[0]\n",
    "ax.bar(stats['Distange Range'], stats['Annual Trips'] / 1E9, \n",
    "        linewidth=1, edgecolor='k', facecolor=color)\n",
    "ax.set_ylabel('Annual Trips (billions)')\n",
    "ax.set_xlabel('Trip Distance')\n",
    "ax.set_title('Annual Driving in the United States')\n",
    "\n",
    "ax = axes[1]\n",
    "ax.bar(stats['Distange Range'], stats['Annual Vehicle Miles Traveled (billions)'], \n",
    "        linewidth=1, edgecolor='k', facecolor=color)\n",
    "ax.set_ylabel('Vehicle Miles Traveled (billions)')\n",
    "ax.set_xlabel('Trip Distance')\n",
    "ax.set_title('Annual Driving in the United States')\n",
    "\n",
    "plt.tight_layout(pad=3.0)\n",
    "plt.savefig('Annual Trips and VMT.png', bbox_inches='tight', alpha=0)"
   ]
  },
  {
   "cell_type": "code",
   "execution_count": 18,
   "metadata": {},
   "outputs": [
    {
     "data": {
      "text/html": [
       "<div>\n",
       "<style scoped>\n",
       "    .dataframe tbody tr th:only-of-type {\n",
       "        vertical-align: middle;\n",
       "    }\n",
       "\n",
       "    .dataframe tbody tr th {\n",
       "        vertical-align: top;\n",
       "    }\n",
       "\n",
       "    .dataframe thead th {\n",
       "        text-align: right;\n",
       "    }\n",
       "</style>\n",
       "<table border=\"1\" class=\"dataframe\">\n",
       "  <thead>\n",
       "    <tr style=\"text-align: right;\">\n",
       "      <th></th>\n",
       "      <th>Trip Distance</th>\n",
       "      <th>Annual Trips</th>\n",
       "      <th>Left</th>\n",
       "      <th>Distange Range</th>\n",
       "      <th>Annual Vehicle Miles Traveled</th>\n",
       "      <th>Annual Vehicle Miles Traveled (billions)</th>\n",
       "    </tr>\n",
       "    <tr>\n",
       "      <th>Distance Bin</th>\n",
       "      <th></th>\n",
       "      <th></th>\n",
       "      <th></th>\n",
       "      <th></th>\n",
       "      <th></th>\n",
       "      <th></th>\n",
       "    </tr>\n",
       "  </thead>\n",
       "  <tbody>\n",
       "    <tr>\n",
       "      <th>(0.0, 1.0]</th>\n",
       "      <td>0.583348</td>\n",
       "      <td>29149758821</td>\n",
       "      <td>0.0</td>\n",
       "      <td>0-1\\nmiles</td>\n",
       "      <td>1.700444e+10</td>\n",
       "      <td>17.004443</td>\n",
       "    </tr>\n",
       "    <tr>\n",
       "      <th>(1.0, 3.0]</th>\n",
       "      <td>1.920523</td>\n",
       "      <td>60798730814</td>\n",
       "      <td>1.0</td>\n",
       "      <td>1-3\\nmiles</td>\n",
       "      <td>1.167654e+11</td>\n",
       "      <td>116.765358</td>\n",
       "    </tr>\n",
       "    <tr>\n",
       "      <th>(3.0, 10.0]</th>\n",
       "      <td>5.674367</td>\n",
       "      <td>76600310132</td>\n",
       "      <td>3.0</td>\n",
       "      <td>3-10\\nmiles</td>\n",
       "      <td>4.346583e+11</td>\n",
       "      <td>434.658267</td>\n",
       "    </tr>\n",
       "    <tr>\n",
       "      <th>(10.0, 30.0]</th>\n",
       "      <td>16.778433</td>\n",
       "      <td>42626749689</td>\n",
       "      <td>10.0</td>\n",
       "      <td>10-30\\nmiles</td>\n",
       "      <td>7.152101e+11</td>\n",
       "      <td>715.210069</td>\n",
       "    </tr>\n",
       "    <tr>\n",
       "      <th>(30.0, inf]</th>\n",
       "      <td>73.337766</td>\n",
       "      <td>11211734756</td>\n",
       "      <td>30.0</td>\n",
       "      <td>30+\\nmiles</td>\n",
       "      <td>8.222436e+11</td>\n",
       "      <td>822.243575</td>\n",
       "    </tr>\n",
       "  </tbody>\n",
       "</table>\n",
       "</div>"
      ],
      "text/plain": [
       "              Trip Distance  Annual Trips  Left Distange Range  \\\n",
       "Distance Bin                                                     \n",
       "(0.0, 1.0]         0.583348   29149758821   0.0     0-1\\nmiles   \n",
       "(1.0, 3.0]         1.920523   60798730814   1.0     1-3\\nmiles   \n",
       "(3.0, 10.0]        5.674367   76600310132   3.0    3-10\\nmiles   \n",
       "(10.0, 30.0]      16.778433   42626749689  10.0   10-30\\nmiles   \n",
       "(30.0, inf]       73.337766   11211734756  30.0     30+\\nmiles   \n",
       "\n",
       "              Annual Vehicle Miles Traveled  \\\n",
       "Distance Bin                                  \n",
       "(0.0, 1.0]                     1.700444e+10   \n",
       "(1.0, 3.0]                     1.167654e+11   \n",
       "(3.0, 10.0]                    4.346583e+11   \n",
       "(10.0, 30.0]                   7.152101e+11   \n",
       "(30.0, inf]                    8.222436e+11   \n",
       "\n",
       "              Annual Vehicle Miles Traveled (billions)  \n",
       "Distance Bin                                            \n",
       "(0.0, 1.0]                                   17.004443  \n",
       "(1.0, 3.0]                                  116.765358  \n",
       "(3.0, 10.0]                                 434.658267  \n",
       "(10.0, 30.0]                                715.210069  \n",
       "(30.0, inf]                                 822.243575  "
      ]
     },
     "execution_count": 18,
     "metadata": {},
     "output_type": "execute_result"
    }
   ],
   "source": [
    "stats"
   ]
  },
  {
   "cell_type": "code",
   "execution_count": 19,
   "metadata": {},
   "outputs": [
    {
     "data": {
      "text/plain": [
       "0.38095238095238093"
      ]
     },
     "execution_count": 19,
     "metadata": {},
     "output_type": "execute_result"
    }
   ],
   "source": [
    "0.8/2.1"
   ]
  },
  {
   "cell_type": "code",
   "execution_count": 20,
   "metadata": {},
   "outputs": [
    {
     "data": {
      "text/plain": [
       "'2.1 trillion'"
      ]
     },
     "execution_count": 20,
     "metadata": {},
     "output_type": "execute_result"
    }
   ],
   "source": [
    "annual_us_vmt = stats['Annual Vehicle Miles Traveled'].sum()\n",
    "f'{annual_us_vmt / 1E12:.1f} trillion'"
   ]
  },
  {
   "cell_type": "code",
   "execution_count": 21,
   "metadata": {},
   "outputs": [
    {
     "data": {
      "text/plain": [
       "'7020 per capita'"
      ]
     },
     "execution_count": 21,
     "metadata": {},
     "output_type": "execute_result"
    }
   ],
   "source": [
    "f'{annual_us_vmt / 300E6:.0f} VMT per capita'"
   ]
  },
  {
   "cell_type": "code",
   "execution_count": 22,
   "metadata": {
    "scrolled": true
   },
   "outputs": [
    {
     "data": {
      "text/plain": [
       "<BarContainer object of 5 artists>"
      ]
     },
     "execution_count": 22,
     "metadata": {},
     "output_type": "execute_result"
    },
    {
     "data": {
      "image/png": "[encoded data removed]",
      "text/plain": [
       "<Figure size 432x288 with 1 Axes>"
      ]
     },
     "metadata": {
      "needs_background": "light"
     },
     "output_type": "display_data"
    }
   ],
   "source": [
    "plt.bar(stats.Left, stats['Annual Trips'], \n",
    "        width=stats['Trip Distance'],\n",
    "        linewidth=1, edgecolor='k', alpha=0.3)"
   ]
  }
 ],
 "metadata": {
  "kernelspec": {
   "display_name": "Python 3",
   "language": "python",
   "name": "python3"
  },
  "language_info": {
   "codemirror_mode": {
    "name": "ipython",
    "version": 3
   },
   "file_extension": ".py",
   "mimetype": "text/x-python",
   "name": "python",
   "nbconvert_exporter": "python",
   "pygments_lexer": "ipython3",
   "version": "3.7.7"
  }
 },
 "nbformat": 4,
 "nbformat_minor": 4
}
